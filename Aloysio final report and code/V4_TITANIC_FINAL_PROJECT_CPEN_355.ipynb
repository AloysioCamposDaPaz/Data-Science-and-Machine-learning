{
  "nbformat": 4,
  "nbformat_minor": 0,
  "metadata": {
    "colab": {
      "provenance": []
    },
    "kernelspec": {
      "name": "python3",
      "display_name": "Python 3"
    },
    "language_info": {
      "name": "python"
    }
  },
  "cells": [
    {
      "cell_type": "markdown",
      "source": [
        "##Import libraries"
      ],
      "metadata": {
        "id": "Gt2j9bp3EIoz"
      }
    },
    {
      "cell_type": "code",
      "source": [
        "#libraries for all models\n",
        "import pandas as pd\n",
        "import numpy as np\n",
        "from sklearn.model_selection import GridSearchCV, cross_val_score\n",
        "from sklearn.impute import SimpleImputer\n",
        "from sklearn.pipeline import Pipeline\n",
        "from sklearn.preprocessing import StandardScaler, OneHotEncoder\n",
        "from sklearn.model_selection import StratifiedKFold\n",
        "from sklearn.metrics import classification_report, accuracy_score, confusion_matrix\n",
        "\n",
        "\n",
        "#libraries for random forest\n",
        "from sklearn.compose import ColumnTransformer\n",
        "from sklearn.ensemble import RandomForestClassifier\n",
        "\n",
        "#libraries for neural network\n",
        "!pip install scikeras\n",
        "from tensorflow.keras.models import Sequential\n",
        "from tensorflow.keras.layers import Dense, Dropout\n",
        "from tensorflow.keras.optimizers import Adam\n",
        "from scikeras.wrappers import KerasClassifier\n",
        "\n",
        "#libraries for SVM\n",
        "!pip install scikit-learn\n",
        "from sklearn.svm import SVC"
      ],
      "metadata": {
        "id": "okQRISecEMkD",
        "colab": {
          "base_uri": "https://localhost:8080/"
        },
        "outputId": "f04b437d-7172-4601-9350-17f0542ea1de"
      },
      "execution_count": 54,
      "outputs": [
        {
          "output_type": "stream",
          "name": "stdout",
          "text": [
            "Requirement already satisfied: scikeras in /usr/local/lib/python3.10/dist-packages (0.12.0)\n",
            "Requirement already satisfied: packaging>=0.21 in /usr/local/lib/python3.10/dist-packages (from scikeras) (23.2)\n",
            "Requirement already satisfied: scikit-learn>=1.0.0 in /usr/local/lib/python3.10/dist-packages (from scikeras) (1.2.2)\n",
            "Requirement already satisfied: numpy>=1.17.3 in /usr/local/lib/python3.10/dist-packages (from scikit-learn>=1.0.0->scikeras) (1.23.5)\n",
            "Requirement already satisfied: scipy>=1.3.2 in /usr/local/lib/python3.10/dist-packages (from scikit-learn>=1.0.0->scikeras) (1.11.4)\n",
            "Requirement already satisfied: joblib>=1.1.1 in /usr/local/lib/python3.10/dist-packages (from scikit-learn>=1.0.0->scikeras) (1.3.2)\n",
            "Requirement already satisfied: threadpoolctl>=2.0.0 in /usr/local/lib/python3.10/dist-packages (from scikit-learn>=1.0.0->scikeras) (3.2.0)\n",
            "Requirement already satisfied: scikit-learn in /usr/local/lib/python3.10/dist-packages (1.2.2)\n",
            "Requirement already satisfied: numpy>=1.17.3 in /usr/local/lib/python3.10/dist-packages (from scikit-learn) (1.23.5)\n",
            "Requirement already satisfied: scipy>=1.3.2 in /usr/local/lib/python3.10/dist-packages (from scikit-learn) (1.11.4)\n",
            "Requirement already satisfied: joblib>=1.1.1 in /usr/local/lib/python3.10/dist-packages (from scikit-learn) (1.3.2)\n",
            "Requirement already satisfied: threadpoolctl>=2.0.0 in /usr/local/lib/python3.10/dist-packages (from scikit-learn) (3.2.0)\n"
          ]
        }
      ]
    },
    {
      "cell_type": "markdown",
      "source": [
        "##Load data and preprocess it"
      ],
      "metadata": {
        "id": "6L89wNRuENWL"
      }
    },
    {
      "cell_type": "code",
      "source": [
        "#\n",
        "# Load the dataset\n",
        "train_data = pd.read_csv('train.csv')\n",
        "\n",
        "# Feature Engineering\n",
        "train_data['FamilySize'] = train_data['SibSp'] + train_data['Parch'] + 1\n",
        "train_data['IsAlone'] = np.where(train_data['FamilySize'] > 1, 0, 1)\n",
        "train_data['Title'] = train_data['Name'].str.extract(' ([A-Za-z]+)\\.', expand=False)\n",
        "\n",
        "# Preprocessing Steps\n",
        "numeric_features = ['Age', 'Fare', 'FamilySize']\n",
        "numeric_transformer = Pipeline(steps=[\n",
        "    ('imputer', SimpleImputer(strategy='median')),\n",
        "    ('scaler', StandardScaler())])\n",
        "\n",
        "categorical_features = ['Embarked', 'Sex', 'Pclass', 'Title', 'IsAlone']\n",
        "categorical_transformer = Pipeline(steps=[\n",
        "    ('imputer', SimpleImputer(strategy='constant', fill_value='missing')),\n",
        "    ('onehot', OneHotEncoder(handle_unknown='ignore'))])\n",
        "\n",
        "preprocessor = ColumnTransformer(\n",
        "    transformers=[\n",
        "        ('num', numeric_transformer, numeric_features),\n",
        "        ('cat', categorical_transformer, categorical_features)])\n",
        "\n",
        "# Prepare the data\n",
        "X = train_data.drop(['Survived', 'Name', 'Ticket', 'Cabin'], axis=1)\n",
        "y = train_data['Survived']\n",
        "\n",
        "#X = preprocessor.fit_transform(X)\n"
      ],
      "metadata": {
        "id": "Q73pJWlNh9OD"
      },
      "execution_count": 55,
      "outputs": []
    },
    {
      "cell_type": "markdown",
      "source": [
        "# Random forest"
      ],
      "metadata": {
        "id": "an3WO9O8TxaQ"
      }
    },
    {
      "cell_type": "markdown",
      "source": [
        "## Create model"
      ],
      "metadata": {
        "id": "sEl2dxmJbD5P"
      }
    },
    {
      "cell_type": "code",
      "source": [
        "# Create a preprocessing and modelling pipeline\n",
        "model = Pipeline(steps=[('preprocessor', preprocessor),\n",
        "                        ('classifier', RandomForestClassifier(random_state=42))])\n"
      ],
      "metadata": {
        "id": "bPBKIrG8-yCS"
      },
      "execution_count": 56,
      "outputs": []
    },
    {
      "cell_type": "markdown",
      "source": [
        "## Hyperparameter tuning"
      ],
      "metadata": {
        "id": "vUc0a33wM5Ja"
      }
    },
    {
      "cell_type": "code",
      "source": [
        "# Define hyperparameter search space\n",
        "param_grid = {\n",
        "    'classifier__n_estimators': [100, 200],\n",
        "    'classifier__max_features': ['sqrt'],  # Changed from ['auto', 'sqrt'] to just ['sqrt']\n",
        "    'classifier__max_depth' : [5, 10],\n",
        "    'classifier__min_samples_split': [2, 5],\n",
        "    'classifier__min_samples_leaf': [1, 2]\n",
        "}\n",
        "# Hyperparameter tuning using Grid Search with Cross-Validation\n",
        "\n",
        "cv = GridSearchCV(model, param_grid, cv=5, scoring='accuracy')\n",
        "cv.fit(X, y)\n",
        "\n",
        "print(\"Best parameters found: \", cv.best_params_)\n",
        "print(\"Best accuracy found: \", cv.best_score_)\n"
      ],
      "metadata": {
        "colab": {
          "base_uri": "https://localhost:8080/"
        },
        "id": "OCumHOvvM3Ao",
        "outputId": "bfc4a0f2-6e17-4557-bcb8-811266a08cba"
      },
      "execution_count": 57,
      "outputs": [
        {
          "output_type": "stream",
          "name": "stdout",
          "text": [
            "Best parameters found:  {'classifier__max_depth': 10, 'classifier__max_features': 'sqrt', 'classifier__min_samples_leaf': 2, 'classifier__min_samples_split': 2, 'classifier__n_estimators': 100}\n",
            "Best accuracy found:  0.8350260498399347\n"
          ]
        }
      ]
    },
    {
      "cell_type": "markdown",
      "source": [
        "##Cross validate model"
      ],
      "metadata": {
        "id": "jORzWJYUfryC"
      }
    },
    {
      "cell_type": "code",
      "source": [
        "best_model = cv.best_estimator_\n",
        "\n",
        "# Stratified K-Fold cross-validation\n",
        "kfold = StratifiedKFold(n_splits=5, shuffle=True, random_state=42)\n",
        "fold_no = 1\n",
        "cv_scores = []\n",
        "for train_idx, test_idx in kfold.split(X, y):\n",
        "    # Fit the model with the best parameters on the training data\n",
        "    best_model.fit(X.iloc[train_idx], y.iloc[train_idx])\n",
        "\n",
        "    # Evaluate the model\n",
        "    y_pred = best_model.predict(X.iloc[test_idx])\n",
        "    accuracy = accuracy_score(y.iloc[test_idx], y_pred)\n",
        "    cv_scores.append(accuracy)\n",
        "\n",
        "    print(f'Fold {fold_no}')\n",
        "    print(f'Accuracy: {accuracy}')\n",
        "    # Print classification report for each fold\n",
        "    print(f'Fold Classification Report:\\n{classification_report(y.iloc[test_idx], y_pred > 0.5)}')\n",
        "    print('Confusion Matrix:')\n",
        "    print(confusion_matrix(y.iloc[test_idx], y_pred))\n",
        "    print('-' * 30)\n",
        "\n",
        "    fold_no += 1\n",
        "print('Cross-validated accuracy scores:', cv_scores)\n",
        "print('Mean CV Accuracy:', np.mean(cv_scores))\n"
      ],
      "metadata": {
        "colab": {
          "base_uri": "https://localhost:8080/"
        },
        "id": "EFTjIRCNOppw",
        "outputId": "ee10eba2-6cac-4088-af6e-c741eb49d236"
      },
      "execution_count": 58,
      "outputs": [
        {
          "output_type": "stream",
          "name": "stdout",
          "text": [
            "Fold 1\n",
            "Accuracy: 0.8435754189944135\n",
            "Fold Classification Report:\n",
            "              precision    recall  f1-score   support\n",
            "\n",
            "           0       0.85      0.91      0.88       110\n",
            "           1       0.84      0.74      0.78        69\n",
            "\n",
            "    accuracy                           0.84       179\n",
            "   macro avg       0.84      0.82      0.83       179\n",
            "weighted avg       0.84      0.84      0.84       179\n",
            "\n",
            "Confusion Matrix:\n",
            "[[100  10]\n",
            " [ 18  51]]\n",
            "------------------------------\n",
            "Fold 2\n",
            "Accuracy: 0.8258426966292135\n",
            "Fold Classification Report:\n",
            "              precision    recall  f1-score   support\n",
            "\n",
            "           0       0.84      0.88      0.86       110\n",
            "           1       0.79      0.74      0.76        68\n",
            "\n",
            "    accuracy                           0.83       178\n",
            "   macro avg       0.82      0.81      0.81       178\n",
            "weighted avg       0.82      0.83      0.82       178\n",
            "\n",
            "Confusion Matrix:\n",
            "[[97 13]\n",
            " [18 50]]\n",
            "------------------------------\n",
            "Fold 3\n",
            "Accuracy: 0.8146067415730337\n",
            "Fold Classification Report:\n",
            "              precision    recall  f1-score   support\n",
            "\n",
            "           0       0.80      0.93      0.86       110\n",
            "           1       0.84      0.63      0.72        68\n",
            "\n",
            "    accuracy                           0.81       178\n",
            "   macro avg       0.82      0.78      0.79       178\n",
            "weighted avg       0.82      0.81      0.81       178\n",
            "\n",
            "Confusion Matrix:\n",
            "[[102   8]\n",
            " [ 25  43]]\n",
            "------------------------------\n",
            "Fold 4\n",
            "Accuracy: 0.8426966292134831\n",
            "Fold Classification Report:\n",
            "              precision    recall  f1-score   support\n",
            "\n",
            "           0       0.84      0.92      0.88       110\n",
            "           1       0.84      0.72      0.78        68\n",
            "\n",
            "    accuracy                           0.84       178\n",
            "   macro avg       0.84      0.82      0.83       178\n",
            "weighted avg       0.84      0.84      0.84       178\n",
            "\n",
            "Confusion Matrix:\n",
            "[[101   9]\n",
            " [ 19  49]]\n",
            "------------------------------\n",
            "Fold 5\n",
            "Accuracy: 0.8539325842696629\n",
            "Fold Classification Report:\n",
            "              precision    recall  f1-score   support\n",
            "\n",
            "           0       0.86      0.91      0.88       109\n",
            "           1       0.84      0.77      0.80        69\n",
            "\n",
            "    accuracy                           0.85       178\n",
            "   macro avg       0.85      0.84      0.84       178\n",
            "weighted avg       0.85      0.85      0.85       178\n",
            "\n",
            "Confusion Matrix:\n",
            "[[99 10]\n",
            " [16 53]]\n",
            "------------------------------\n",
            "Cross-validated accuracy scores: [0.8435754189944135, 0.8258426966292135, 0.8146067415730337, 0.8426966292134831, 0.8539325842696629]\n",
            "Mean CV Accuracy: 0.8361308141359614\n"
          ]
        }
      ]
    },
    {
      "cell_type": "markdown",
      "source": [
        "# Neural Network\n"
      ],
      "metadata": {
        "id": "Yp2TrII-T8N4"
      }
    },
    {
      "cell_type": "markdown",
      "source": [
        "## Create a neural network model & tune hyperparameters"
      ],
      "metadata": {
        "id": "qqfl-QmMgpJ7"
      }
    },
    {
      "cell_type": "code",
      "source": [
        "X_nn = preprocessor.fit_transform(X)\n",
        "\n",
        "# Define a function to create the model (needed for KerasClassifier)\n",
        "def neural_network(learning_rate=0.001, dropout_rate=0.2, optimizer = 'adam'):\n",
        "    model = Sequential([\n",
        "        Dense(64, activation='relu', input_dim=X_nn.shape[1]),\n",
        "        Dropout(dropout_rate),\n",
        "        Dense(32, activation='relu'),\n",
        "        Dropout(dropout_rate),\n",
        "        Dense(1, activation='sigmoid')\n",
        "    ])\n",
        "    model.compile(optimizer=optimizer, loss='binary_crossentropy', metrics=['accuracy'])\n",
        "    return model\n",
        "\n",
        "# Wrap the model so it can be used by scikit-learn\n",
        "model = KerasClassifier(build_fn=neural_network, verbose=0)\n",
        "# Define hyperparameter search space\n",
        "param_grid = {'batch_size': [10, 20, 30], 'epochs': [10, 20], 'optimizer': ['adam', 'rmsprop']}\n",
        "\n",
        "# Hyperparameter tuning using Grid Search with Cross-Validation\n",
        "grid = GridSearchCV(estimator=model, param_grid=param_grid, n_jobs=-1, cv=5)\n",
        "grid_result = grid.fit(X_nn, y)\n",
        "\n",
        "print(\"Best parameters found: \", grid.best_params_)\n",
        "print(\"Best accuracy found: \", grid.best_score_)\n"
      ],
      "metadata": {
        "colab": {
          "base_uri": "https://localhost:8080/"
        },
        "id": "i6sNRxQLax1M",
        "outputId": "71d67cb5-148f-44bd-ab34-72463dd8dcfc"
      },
      "execution_count": 59,
      "outputs": [
        {
          "output_type": "stream",
          "name": "stderr",
          "text": [
            "/usr/local/lib/python3.10/dist-packages/scikeras/wrappers.py:915: UserWarning: ``build_fn`` will be renamed to ``model`` in a future release, at which point use of ``build_fn`` will raise an Error instead.\n",
            "  X, y = self._initialize(X, y)\n"
          ]
        },
        {
          "output_type": "stream",
          "name": "stdout",
          "text": [
            "Best parameters found:  {'batch_size': 20, 'epochs': 20, 'optimizer': 'rmsprop'}\n",
            "Best accuracy found:  0.8372795179210344\n"
          ]
        }
      ]
    },
    {
      "cell_type": "markdown",
      "source": [
        "## Cross validate"
      ],
      "metadata": {
        "id": "IqjcKJ3oJ9cu"
      }
    },
    {
      "cell_type": "code",
      "source": [
        "best_model = grid_result.best_estimator_\n",
        "\n",
        "# Cross-validation\n",
        "kfold = StratifiedKFold(n_splits=5, shuffle=True, random_state=42)\n",
        "fold_no = 1\n",
        "cv_scores = []\n",
        "for train_idx, test_idx in kfold.split(X_nn, y):\n",
        "    # Fit the model with the best parameters on the training data\n",
        "    best_model.fit(X_nn[train_idx], y.iloc[train_idx])\n",
        "\n",
        "    # Predict and evaluate on the test set\n",
        "    y_pred = best_model.predict(X_nn[test_idx])\n",
        "    accuracy = accuracy_score(y.iloc[test_idx], y_pred > 0.5)\n",
        "    cv_scores.append(accuracy)\n",
        "    print(f'Fold {fold_no}')\n",
        "    print(f'Accuracy: {accuracy}')\n",
        "\n",
        "    # Print classification report for each fold\n",
        "    print(f'Fold Classification Report:\\n{classification_report(y.iloc[test_idx], y_pred > 0.5)}')\n",
        "    print('Confusion Matrix:')\n",
        "    print(confusion_matrix(y.iloc[test_idx], y_pred))\n",
        "    print('-' * 30)\n",
        "    fold_no += 1\n",
        "\n",
        "print('Cross-validated accuracy scores:', cv_scores)\n",
        "print('Mean CV Accuracy:', np.mean(cv_scores))\n",
        "\n"
      ],
      "metadata": {
        "colab": {
          "base_uri": "https://localhost:8080/"
        },
        "id": "8Hg75IC1JtQR",
        "outputId": "8dd7c1b0-39fa-4d68-e360-8c91b04c80b1"
      },
      "execution_count": 60,
      "outputs": [
        {
          "output_type": "stream",
          "name": "stderr",
          "text": [
            "/usr/local/lib/python3.10/dist-packages/scikeras/wrappers.py:915: UserWarning: ``build_fn`` will be renamed to ``model`` in a future release, at which point use of ``build_fn`` will raise an Error instead.\n",
            "  X, y = self._initialize(X, y)\n"
          ]
        },
        {
          "output_type": "stream",
          "name": "stdout",
          "text": [
            "Fold 1\n",
            "Accuracy: 0.8268156424581006\n",
            "Fold Classification Report:\n",
            "              precision    recall  f1-score   support\n",
            "\n",
            "           0       0.83      0.90      0.86       110\n",
            "           1       0.82      0.71      0.76        69\n",
            "\n",
            "    accuracy                           0.83       179\n",
            "   macro avg       0.82      0.81      0.81       179\n",
            "weighted avg       0.83      0.83      0.82       179\n",
            "\n",
            "Confusion Matrix:\n",
            "[[99 11]\n",
            " [20 49]]\n",
            "------------------------------\n"
          ]
        },
        {
          "output_type": "stream",
          "name": "stderr",
          "text": [
            "/usr/local/lib/python3.10/dist-packages/scikeras/wrappers.py:915: UserWarning: ``build_fn`` will be renamed to ``model`` in a future release, at which point use of ``build_fn`` will raise an Error instead.\n",
            "  X, y = self._initialize(X, y)\n"
          ]
        },
        {
          "output_type": "stream",
          "name": "stdout",
          "text": [
            "Fold 2\n",
            "Accuracy: 0.8370786516853933\n",
            "Fold Classification Report:\n",
            "              precision    recall  f1-score   support\n",
            "\n",
            "           0       0.83      0.92      0.87       110\n",
            "           1       0.84      0.71      0.77        68\n",
            "\n",
            "    accuracy                           0.84       178\n",
            "   macro avg       0.84      0.81      0.82       178\n",
            "weighted avg       0.84      0.84      0.83       178\n",
            "\n",
            "Confusion Matrix:\n",
            "[[101   9]\n",
            " [ 20  48]]\n",
            "------------------------------\n"
          ]
        },
        {
          "output_type": "stream",
          "name": "stderr",
          "text": [
            "/usr/local/lib/python3.10/dist-packages/scikeras/wrappers.py:915: UserWarning: ``build_fn`` will be renamed to ``model`` in a future release, at which point use of ``build_fn`` will raise an Error instead.\n",
            "  X, y = self._initialize(X, y)\n"
          ]
        },
        {
          "output_type": "stream",
          "name": "stdout",
          "text": [
            "Fold 3\n",
            "Accuracy: 0.8258426966292135\n",
            "Fold Classification Report:\n",
            "              precision    recall  f1-score   support\n",
            "\n",
            "           0       0.82      0.92      0.87       110\n",
            "           1       0.84      0.68      0.75        68\n",
            "\n",
            "    accuracy                           0.83       178\n",
            "   macro avg       0.83      0.80      0.81       178\n",
            "weighted avg       0.83      0.83      0.82       178\n",
            "\n",
            "Confusion Matrix:\n",
            "[[101   9]\n",
            " [ 22  46]]\n",
            "------------------------------\n"
          ]
        },
        {
          "output_type": "stream",
          "name": "stderr",
          "text": [
            "/usr/local/lib/python3.10/dist-packages/scikeras/wrappers.py:915: UserWarning: ``build_fn`` will be renamed to ``model`` in a future release, at which point use of ``build_fn`` will raise an Error instead.\n",
            "  X, y = self._initialize(X, y)\n"
          ]
        },
        {
          "output_type": "stream",
          "name": "stdout",
          "text": [
            "Fold 4\n",
            "Accuracy: 0.848314606741573\n",
            "Fold Classification Report:\n",
            "              precision    recall  f1-score   support\n",
            "\n",
            "           0       0.84      0.94      0.88       110\n",
            "           1       0.87      0.71      0.78        68\n",
            "\n",
            "    accuracy                           0.85       178\n",
            "   macro avg       0.86      0.82      0.83       178\n",
            "weighted avg       0.85      0.85      0.84       178\n",
            "\n",
            "Confusion Matrix:\n",
            "[[103   7]\n",
            " [ 20  48]]\n",
            "------------------------------\n"
          ]
        },
        {
          "output_type": "stream",
          "name": "stderr",
          "text": [
            "/usr/local/lib/python3.10/dist-packages/scikeras/wrappers.py:915: UserWarning: ``build_fn`` will be renamed to ``model`` in a future release, at which point use of ``build_fn`` will raise an Error instead.\n",
            "  X, y = self._initialize(X, y)\n"
          ]
        },
        {
          "output_type": "stream",
          "name": "stdout",
          "text": [
            "Fold 5\n",
            "Accuracy: 0.8539325842696629\n",
            "Fold Classification Report:\n",
            "              precision    recall  f1-score   support\n",
            "\n",
            "           0       0.84      0.94      0.89       109\n",
            "           1       0.88      0.72      0.79        69\n",
            "\n",
            "    accuracy                           0.85       178\n",
            "   macro avg       0.86      0.83      0.84       178\n",
            "weighted avg       0.86      0.85      0.85       178\n",
            "\n",
            "Confusion Matrix:\n",
            "[[102   7]\n",
            " [ 19  50]]\n",
            "------------------------------\n",
            "Cross-validated accuracy scores: [0.8268156424581006, 0.8370786516853933, 0.8258426966292135, 0.848314606741573, 0.8539325842696629]\n",
            "Mean CV Accuracy: 0.8383968363567889\n"
          ]
        }
      ]
    },
    {
      "cell_type": "markdown",
      "source": [
        "# Support Vector Machine"
      ],
      "metadata": {
        "id": "ZEGA2ZHNWlbU"
      }
    },
    {
      "cell_type": "markdown",
      "source": [
        "## Create SVM model and tune hyperparameters"
      ],
      "metadata": {
        "id": "2uIxLN1iXOVr"
      }
    },
    {
      "cell_type": "code",
      "source": [
        "# Create a preprocessing and modelling pipeline\n",
        "pipeline = Pipeline(steps=[('preprocessor', preprocessor),\n",
        "                           ('classifier', SVC())])\n",
        "\n",
        "# Hyperparameter tuning using Grid Search with Cross-Validation\n",
        "param_grid = {\n",
        "    'classifier__C': [0.1, 1, 10],\n",
        "    'classifier__gamma': [0.001, 0.01, 0.1, 1],\n",
        "    'classifier__kernel': ['rbf', 'poly', 'sigmoid']\n",
        "}\n",
        "\n",
        "grid_search = GridSearchCV(pipeline, param_grid, cv=5, scoring='accuracy')\n",
        "grid_search.fit(X, y)\n",
        "\n",
        "# Best parameters and best score\n",
        "print(\"Best parameters found: \", grid_search.best_params_)\n",
        "print(\"Best cross-validation score: {:.2f}\".format(grid_search.best_score_))\n"
      ],
      "metadata": {
        "id": "Y2kvsrQQkSKH",
        "colab": {
          "base_uri": "https://localhost:8080/"
        },
        "outputId": "3602e2a4-7e06-4e2b-9524-79c39172378c"
      },
      "execution_count": 61,
      "outputs": [
        {
          "output_type": "stream",
          "name": "stdout",
          "text": [
            "Best parameters found:  {'classifier__C': 10, 'classifier__gamma': 0.01, 'classifier__kernel': 'rbf'}\n",
            "Best cross-validation score: 0.84\n"
          ]
        }
      ]
    },
    {
      "cell_type": "markdown",
      "source": [
        "##Cross validate SVM"
      ],
      "metadata": {
        "id": "NfjipfryEFjG"
      }
    },
    {
      "cell_type": "code",
      "source": [
        "# Stratified K-Fold cross-validation for detailed evaluation\n",
        "best_model = grid_search.best_estimator_\n",
        "kfold = StratifiedKFold(n_splits=5, shuffle=True, random_state=42)\n",
        "fold_no = 1\n",
        "cv_scores = []\n",
        "for train, test in kfold.split(X, y):\n",
        "    best_model.fit(X.iloc[train], y.iloc[train])\n",
        "    y_pred = best_model.predict(X.iloc[test])\n",
        "\n",
        "    print(f'Fold {fold_no}')\n",
        "    accuracy = accuracy_score(y.iloc[test], y_pred > 0.5)\n",
        "    cv_scores.append(accuracy)\n",
        "    print(f'Accuracy: {accuracy}')\n",
        "\n",
        "    # Print classification report for each fold\n",
        "    print('Classification Report:')\n",
        "    print(classification_report(y.iloc[test], y_pred))\n",
        "    print('Confusion Matrix:')\n",
        "    print(confusion_matrix(y.iloc[test], y_pred))\n",
        "\n",
        "\n",
        "    print('-' * 30)\n",
        "\n",
        "    fold_no += 1\n",
        "\n",
        "print('Cross-validated accuracy scores:', cv_scores)\n",
        "print('Mean CV Accuracy:', np.mean(cv_scores))"
      ],
      "metadata": {
        "colab": {
          "base_uri": "https://localhost:8080/"
        },
        "id": "b9XPU-0wD-y8",
        "outputId": "7624e50d-691b-46a7-f5c3-baf866900669"
      },
      "execution_count": 62,
      "outputs": [
        {
          "output_type": "stream",
          "name": "stdout",
          "text": [
            "Fold 1\n",
            "Accuracy: 0.8435754189944135\n",
            "Classification Report:\n",
            "              precision    recall  f1-score   support\n",
            "\n",
            "           0       0.86      0.89      0.88       110\n",
            "           1       0.82      0.77      0.79        69\n",
            "\n",
            "    accuracy                           0.84       179\n",
            "   macro avg       0.84      0.83      0.83       179\n",
            "weighted avg       0.84      0.84      0.84       179\n",
            "\n",
            "Confusion Matrix:\n",
            "[[98 12]\n",
            " [16 53]]\n",
            "------------------------------\n",
            "Fold 2\n",
            "Accuracy: 0.8258426966292135\n",
            "Classification Report:\n",
            "              precision    recall  f1-score   support\n",
            "\n",
            "           0       0.84      0.88      0.86       110\n",
            "           1       0.79      0.74      0.76        68\n",
            "\n",
            "    accuracy                           0.83       178\n",
            "   macro avg       0.82      0.81      0.81       178\n",
            "weighted avg       0.82      0.83      0.82       178\n",
            "\n",
            "Confusion Matrix:\n",
            "[[97 13]\n",
            " [18 50]]\n",
            "------------------------------\n",
            "Fold 3\n",
            "Accuracy: 0.8314606741573034\n",
            "Classification Report:\n",
            "              precision    recall  f1-score   support\n",
            "\n",
            "           0       0.83      0.92      0.87       110\n",
            "           1       0.84      0.69      0.76        68\n",
            "\n",
            "    accuracy                           0.83       178\n",
            "   macro avg       0.83      0.80      0.81       178\n",
            "weighted avg       0.83      0.83      0.83       178\n",
            "\n",
            "Confusion Matrix:\n",
            "[[101   9]\n",
            " [ 21  47]]\n",
            "------------------------------\n",
            "Fold 4\n",
            "Accuracy: 0.8314606741573034\n",
            "Classification Report:\n",
            "              precision    recall  f1-score   support\n",
            "\n",
            "           0       0.84      0.89      0.87       110\n",
            "           1       0.81      0.74      0.77        68\n",
            "\n",
            "    accuracy                           0.83       178\n",
            "   macro avg       0.83      0.81      0.82       178\n",
            "weighted avg       0.83      0.83      0.83       178\n",
            "\n",
            "Confusion Matrix:\n",
            "[[98 12]\n",
            " [18 50]]\n",
            "------------------------------\n",
            "Fold 5\n",
            "Accuracy: 0.848314606741573\n",
            "Classification Report:\n",
            "              precision    recall  f1-score   support\n",
            "\n",
            "           0       0.86      0.90      0.88       109\n",
            "           1       0.83      0.77      0.80        69\n",
            "\n",
            "    accuracy                           0.85       178\n",
            "   macro avg       0.84      0.83      0.84       178\n",
            "weighted avg       0.85      0.85      0.85       178\n",
            "\n",
            "Confusion Matrix:\n",
            "[[98 11]\n",
            " [16 53]]\n",
            "------------------------------\n",
            "Cross-validated accuracy scores: [0.8435754189944135, 0.8258426966292135, 0.8314606741573034, 0.8314606741573034, 0.848314606741573]\n",
            "Mean CV Accuracy: 0.8361308141359614\n"
          ]
        }
      ]
    }
  ]
}